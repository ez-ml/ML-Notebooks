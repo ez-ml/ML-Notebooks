{
 "cells": [
  {
   "cell_type": "code",
   "execution_count": 21,
   "metadata": {},
   "outputs": [],
   "source": [
    "import pandas as pd\n",
    "import numpy as np\n",
    "import seaborn as sns\n",
    "from sklearn.compose import ColumnTransformer, make_column_transformer\n",
    "from sklearn.pipeline import make_pipeline\n",
    "from sklearn.model_selection import cross_val_score\n",
    "from sklearn.linear_model import LinearRegression, Ridge, Lasso, ElasticNet\n",
    "from sklearn.preprocessing import OneHotEncoder , LabelEncoder\n",
    "from sklearn.preprocessing import MinMaxScaler, StandardScaler"
   ]
  },
  {
   "cell_type": "code",
   "execution_count": 14,
   "metadata": {},
   "outputs": [],
   "source": [
    "#For Rgression types of Prolem\n",
    "from prettytable import PrettyTable\n",
    "def print_stats_metrices_regression(algorithm_name, r2, variance, mse, max_error):\n",
    "    x = PrettyTable()\n",
    "    x.field_names = [\"Algorithm\",\"R2\", \"Variance\", \"RMSE\" , \"Max_Error\"]    \n",
    "    x.add_row([algorithm_name,r2,variance,mse,max_error]);\n",
    "    print(x)\n",
    "    \n"
   ]
  },
  {
   "cell_type": "code",
   "execution_count": 7,
   "metadata": {},
   "outputs": [],
   "source": [
    "df_original=pd.read_csv(\"yellow_tripdata_2009-01.csv\",nrows=250000)\n",
    "df_modified=df_original.drop(['Rate_Code','store_and_forward','surcharge', 'mta_tax', 'Tip_Amt', 'Tolls_Amt',\n",
    "       'Total_Amt'],axis=1)\n",
    "\n",
    "df_modified=df_modified[(df_modified[\"Passenger_Count\"]> 0) & (df_modified[\"Passenger_Count\"]< 6)]\n",
    "df_modified=df_modified[df_modified[\"Trip_Distance\"] >= 1]\n",
    "df_modified=df_modified[df_modified[\"Fare_Amt\"]<=50]\n",
    "\n",
    "df_modified=df_modified[(df_modified.Start_Lat <= np.percentile(df_modified.Start_Lat,98)) & (df_modified.Start_Lat >= np.percentile(df_modified.Start_Lat,2))]\n",
    "df_modified=df_modified[(df_modified.Start_Lon <= np.percentile(df_modified.Start_Lon,98)) & (df_modified.Start_Lon >= np.percentile(df_modified.Start_Lon,2))]\n",
    "df_modified=df_modified[(df_modified.End_Lat <= np.percentile(df_modified.End_Lat,98)) & (df_modified.End_Lat >= np.percentile(df_modified.End_Lat,2))]\n",
    "df_modified=df_modified[(df_modified.End_Lon <= np.percentile(df_modified.End_Lon,98)) & (df_modified.End_Lon >= np.percentile(df_modified.End_Lon,2))]\n",
    "\n",
    "\n",
    "df_modified['Hour']=pd.to_datetime(df_modified['Trip_Pickup_DateTime']).dt.hour\n",
    "df_modified['Weekday']=pd.to_datetime(df_modified['Trip_Pickup_DateTime']).dt.weekday\n"
   ]
  },
  {
   "cell_type": "code",
   "execution_count": 8,
   "metadata": {},
   "outputs": [
    {
     "name": "stderr",
     "output_type": "stream",
     "text": [
      "/opt/conda/lib/python3.6/site-packages/sklearn/compose/_column_transformer.py:778: DeprecationWarning: `make_column_transformer` now expects (transformer, columns) as input tuples instead of (columns, transformer). This has been introduced in v0.20.1. `make_column_transformer` will stop accepting the deprecated (columns, transformer) order in v0.22.\n",
      "  warnings.warn(message, DeprecationWarning)\n"
     ]
    }
   ],
   "source": [
    "preprocess = make_column_transformer(\n",
    "    (['Trip_Distance', 'Hour'], MinMaxScaler()),\n",
    "    (['vendor_name', 'Payment_Type'], OneHotEncoder())\n",
    ")\n",
    "\n",
    "\n",
    "X=df_modified[['Trip_Distance', 'Hour','vendor_name', 'Payment_Type','Passenger_Count']]\n",
    "Y=df_modified.Fare_Amt\n"
   ]
  },
  {
   "cell_type": "code",
   "execution_count": 28,
   "metadata": {},
   "outputs": [
    {
     "name": "stdout",
     "output_type": "stream",
     "text": [
      "+-------------------+--------------------+-------------------+---------------------+-------------------+\n",
      "|     Algorithm     |         R2         |      Variance     |         RMSE        |     Max_Error     |\n",
      "+-------------------+--------------------+-------------------+---------------------+-------------------+\n",
      "| Linear_Regression | 0.8449891893791743 | 0.844992418472804 | -2.4626703567147805 | -85.9236753074216 |\n",
      "+-------------------+--------------------+-------------------+---------------------+-------------------+\n",
      "+------------------+--------------------+--------------------+---------------------+--------------------+\n",
      "|    Algorithm     |         R2         |      Variance      |         RMSE        |     Max_Error      |\n",
      "+------------------+--------------------+--------------------+---------------------+--------------------+\n",
      "| Ridge_Regression | 0.8449892359219338 | 0.8449924655204522 | -2.4626697337560826 | -85.91894636672876 |\n",
      "+------------------+--------------------+--------------------+---------------------+--------------------+\n",
      "+------------------+--------------------+--------------------+---------------------+--------------------+\n",
      "|    Algorithm     |         R2         |      Variance      |         RMSE        |     Max_Error      |\n",
      "+------------------+--------------------+--------------------+---------------------+--------------------+\n",
      "| Lasso_Regression | 0.8401579532879133 | 0.8401622915773954 | -2.5395866874958433 | -79.97922797789003 |\n",
      "+------------------+--------------------+--------------------+---------------------+--------------------+\n",
      "+--------------------+---------------------+--------------------+---------------------+---------------------+\n",
      "|     Algorithm      |          R2         |      Variance      |         RMSE        |      Max_Error      |\n",
      "+--------------------+---------------------+--------------------+---------------------+---------------------+\n",
      "| Elastic_Regression | 0.07777655220294769 | 0.0778119040871452 | -14.657416445588556 | -36.762077725070384 |\n",
      "+--------------------+---------------------+--------------------+---------------------+---------------------+\n"
     ]
    }
   ],
   "source": [
    "#Linear Regression\n",
    "linReg=LinearRegression()\n",
    "pipe_linear=make_pipeline(preprocess,linReg)\n",
    "\n",
    "r2=cross_val_score(pipe_linear,X,Y, cv=5,scoring='r2').mean()\n",
    "variance=cross_val_score(pipe_linear,X,Y, cv=5,scoring='explained_variance').mean()\n",
    "mse=cross_val_score(pipe_linear,X,Y, cv=5,scoring='neg_mean_squared_error').mean()\n",
    "max_error=cross_val_score(pipe_linear,X,Y, cv=5,scoring='max_error').mean()\n",
    "\n",
    "print_stats_metrices_regression(\"Linear_Regression\",r2,variance,mse,max_error)\n",
    "\n",
    "#Ridge\n",
    "ridge=Ridge(alpha=0.01)\n",
    "pipe_linear=make_pipeline(preprocess,ridge)\n",
    "\n",
    "r2=cross_val_score(pipe_linear,X,Y, cv=5,scoring='r2').mean()\n",
    "variance=cross_val_score(pipe_linear,X,Y, cv=5,scoring='explained_variance').mean()\n",
    "mse=cross_val_score(pipe_linear,X,Y, cv=5,scoring='neg_mean_squared_error').mean()\n",
    "max_error=cross_val_score(pipe_linear,X,Y, cv=5,scoring='max_error').mean()\n",
    "\n",
    "print_stats_metrices_regression(\"Ridge_Regression\",r2,variance,mse,max_error)\n",
    "\n",
    "\n",
    "laso=Lasso(alpha=0.01, max_iter=100)\n",
    "pipe_linear=make_pipeline(preprocess,laso)\n",
    "\n",
    "r2=cross_val_score(pipe_linear,X,Y, cv=5,scoring='r2').mean()\n",
    "variance=cross_val_score(pipe_linear,X,Y, cv=5,scoring='explained_variance').mean()\n",
    "mse=cross_val_score(pipe_linear,X,Y, cv=5,scoring='neg_mean_squared_error').mean()\n",
    "max_error=cross_val_score(pipe_linear,X,Y, cv=5,scoring='max_error').mean()\n",
    "\n",
    "print_stats_metrices_regression(\"Lasso_Regression\",r2,variance,mse,max_error)\n",
    "\n",
    "\n",
    "ele=ElasticNet(alpha=0.01)\n",
    "pipe_linear=make_pipeline(preprocess,ele)\n",
    "\n",
    "r2=cross_val_score(pipe_linear,X,Y, cv=5,scoring='r2').mean()\n",
    "variance=cross_val_score(pipe_linear,X,Y, cv=5,scoring='explained_variance').mean()\n",
    "mse=cross_val_score(pipe_linear,X,Y, cv=5,scoring='neg_mean_squared_error').mean()\n",
    "max_error=cross_val_score(pipe_linear,X,Y, cv=5,scoring='max_error').mean()\n",
    "\n",
    "print_stats_metrices_regression(\"Elastic_Regression\",r2,variance,mse,max_error)\n",
    "\n",
    "\n",
    "\n",
    "\n"
   ]
  },
  {
   "cell_type": "code",
   "execution_count": null,
   "metadata": {},
   "outputs": [],
   "source": []
  }
 ],
 "metadata": {
  "kernelspec": {
   "display_name": "Python 3",
   "language": "python",
   "name": "python3"
  },
  "language_info": {
   "codemirror_mode": {
    "name": "ipython",
    "version": 3
   },
   "file_extension": ".py",
   "mimetype": "text/x-python",
   "name": "python",
   "nbconvert_exporter": "python",
   "pygments_lexer": "ipython3",
   "version": "3.6.8"
  }
 },
 "nbformat": 4,
 "nbformat_minor": 2
}
